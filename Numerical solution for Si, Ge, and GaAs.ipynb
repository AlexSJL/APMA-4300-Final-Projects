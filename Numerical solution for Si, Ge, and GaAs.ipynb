{
 "cells": [
  {
   "cell_type": "code",
   "execution_count": 3,
   "metadata": {},
   "outputs": [],
   "source": [
    "%matplotlib inline\n",
    "%precision 16\n",
    "import numpy\n",
    "import matplotlib.pyplot as plt\n",
    "import pandas as pd"
   ]
  },
  {
   "cell_type": "markdown",
   "metadata": {
    "deletable": false,
    "editable": false,
    "nbgrader": {
     "cell_type": "markdown",
     "checksum": "e6a1fa0f818b465feb1fb4ae946be8a4",
     "grade": false,
     "grade_id": "cell-c4123d20c3a14019",
     "locked": true,
     "schema_version": 3,
     "solution": false,
     "task": false
    }
   },
   "source": [
    "# Final Project\n",
    "\n",
    "This notebook will provide a brief structure and rubric for presenting your final project. \n",
    "\n",
    "The purpose of the project is 2-fold\n",
    "* To give you an opportunity to work on a problem you are truly interested in (as this is the best way to actually learn something)\n",
    "* To demonstrate to me that you understand the overall workflow of problem solving from problem selection to implementation to discussion \n",
    "\n",
    "You can choose any subject area that interests you as long as there is a computational component to it.  However, please do not reuse projects or homeworks you have done in other classes.  This should be **your** original work.\n",
    "\n",
    "**You can work in teams, but clearly identify each persons contribution** and every team member should hand in their own copy of the notebook.\n",
    "\n",
    "### Structure\n",
    "There are 5 parts for a total of 100 points that provide the overall structure of a mini research project.\n",
    "\n",
    "* Problem Description\n",
    "* Problem Justification\n",
    "* Description of Computational components needed to address problem\n",
    "* Implementation including tests\n",
    "* Discussion of results and future directions\n",
    "\n",
    "For grading purposes, please try to make this notebook entirely self contained. \n",
    "\n",
    "The project is worth about 2 problem sets and should be of comparable length or less (please: I will have about 100 of these to read and I am not expecting full 10 page papers).  The actual project does not necessarily have to work but in that case you should demonstrate that you understand why it did not work and what steps you would take next to fix it.\n",
    "\n",
    "Have fun"
   ]
  },
  {
   "cell_type": "markdown",
   "metadata": {
    "deletable": false,
    "editable": false,
    "nbgrader": {
     "cell_type": "markdown",
     "checksum": "a4c56b2e7790e118816c0647b15a4a48",
     "grade": false,
     "grade_id": "cell-318b53f4ed873060",
     "locked": true,
     "schema_version": 3,
     "solution": false,
     "task": false
    }
   },
   "source": [
    "## Problem Description [15 pts]\n",
    "\n",
    "In 2-4 paragraphs, describe the general problem you want to solve and the goals you hope to achieve. You should provide any relevant background and references, particularly if you are reproducing results from a paper.  Please use proper spelling and grammar. "
   ]
  },
  {
   "cell_type": "markdown",
   "metadata": {
    "deletable": false,
    "nbgrader": {
     "cell_type": "markdown",
     "checksum": "c21ef06c7198ef08a5c02c42bbe153dc",
     "grade": true,
     "grade_id": "cell-f3a6a5fa3a14f053",
     "locked": false,
     "points": 15,
     "schema_version": 3,
     "solution": true,
     "task": false
    }
   },
   "source": [
    "\n",
    "Primarily, we learned that silicon is a semiconductor that accelerates modern civilization. However, pure silicon, especially monocrystalline silicon, has very low electricity conductance and is hard to implement in actual circuits. Various elements such as nitrogen, boron, or phosphorate are injected into the silicon as impurities to increase conductance. We learned from general chemistry that a silicon atom could form four covalent bonds with nearby atoms, while impurities form 3 or 5 bonds. Hence, the injected impurities are not so stable as silicons. Since impurities with five valence electrons easily give out an electron to maintain a 4-bond structure, they are called **donor impurities**. Semiconductors with donor impurities are called **N-type Semiconductor**. On the contrary, impurities with three valence electrons are called **acceptor impurities** since they easily absorb electrons from other atoms.  Semiconductors with acceptor impurity are called **P-type Semiconductor**. In P-type Semiconductors, atoms losing electrons will consequently abosorbing electrons from others, which leads to the movement of positive charge. The positive charges are said to be carried by **holes**. Both holes and electrons are **charge carriers** since they transport charges. Both types of impurities can be doped into different regions of the same semiconductor. At the surface between P-type and N-type semiconductors, a particular region called **PN Juction** is formed, which leads to the asymmetric conductance."
   ]
  },
  {
   "cell_type": "markdown",
   "metadata": {},
   "source": [
    "PN junction is a special region formed at the contact surface between P and N type semiconductors, and it is sensitive to the condition of the semiconductor. Some carriers entered the jucntion recombined with opposite-charge carriers and are depleted. The average time between the generation and recombination of carriers is **life time**. Meanwhile, the leftover positively charged donor impurities and negatively charged acceptor impurities form an electric field within the junction, pointing from N to P region. Therefore, such region is also called **space charge region** or **depletion region**. Due to the gradient difference of carriers, non-recombined free carriers will **diffuse** to the opposite region, namely, electrons move to P region and holes move to N region. Such a charge exchange between P and N region of semiconductor leads to conductance, but it is easily modified by applied outer voltage. When $V_N > V_P$, the junction is **reverse biased** and the width of depletion region increases. Carriers can hardly go through the jucntion and lead to low conductance, then the semiconductor behaves as an insulator. On the contrary, when $V_P > V_N$, the junction is **forward biased** and the width of depletion region decreases. More carriers go through the junction before recombination, then the semiconductor behave as a conductor. Besides, carriers can be generated by energy like electricity and light, which also effect the conductance of materials."
   ]
  },
  {
   "cell_type": "markdown",
   "metadata": {},
   "source": [
    "From the discussion above, we introduce factors affecting the concentration of carriers: diffusion, drift caused by electric field, recombination, and generation by light. The relation between the factors above and the change of concentration can be described by continuity equation. Suppose that the concentration of carrier is $p$, then\n",
    "\n",
    "$$\n",
    "\\frac{\\partial p}{\\partial t} = D_p\\frac{\\partial^2 p}{\\partial x^2} - \\mu_p E\\frac{\\partial p}{\\partial x}-\\mu_p p\\frac{\\partial E}{\\partial x} + g_p -\\frac{\\Delta p}{\\tau}\\\\\n",
    "$$\n",
    "where $D_p$ is the diffusion constant, $\\mu_p$ is the mobility of carrier, $g_p$ is the generation rate, and $\\tau$ is the life time of $p$. These parameters are determined by the material. By solving the equation, we wish to determine optimal parameters constrained by desired device properties, then we can determine the choice of materials."
   ]
  },
  {
   "cell_type": "markdown",
   "metadata": {
    "deletable": false,
    "editable": false,
    "nbgrader": {
     "cell_type": "markdown",
     "checksum": "d17c85f2162d381f18c622eebae5d417",
     "grade": false,
     "grade_id": "cell-767b4865829f6440",
     "locked": true,
     "schema_version": 3,
     "solution": false,
     "task": false
    }
   },
   "source": [
    "## Problem Justification [5 pts] \n",
    "\n",
    "Briefly describe why this problem is important to you,  and, if possible, to anyone else."
   ]
  },
  {
   "cell_type": "markdown",
   "metadata": {
    "deletable": false,
    "nbgrader": {
     "cell_type": "markdown",
     "checksum": "62b5aaf67715beeb4a031ab159be50be",
     "grade": true,
     "grade_id": "cell-030bdb11ff77dc41",
     "locked": false,
     "points": 5,
     "schema_version": 3,
     "solution": true,
     "task": false
    }
   },
   "source": [
    "In semiconductor device fabrication, choosing proper material can simplify structure of devices and enhance desired properties, and hence is of great importance. Discuss the solution of continuity equation in the context of certian electronic devices, we can find optimal solution for parameters, like diffusion constant, in the PDE. Then, we can choose materials with similar parameters will be appled to fabrication to enhance device performance. In this problem, we only focus on the equation at the equilibrium, which turn the PDE into an ODE, and its application as a photoelectronic diode detecting light intensity."
   ]
  },
  {
   "cell_type": "markdown",
   "metadata": {
    "deletable": false,
    "editable": false,
    "nbgrader": {
     "cell_type": "markdown",
     "checksum": "8ccb52b54ce95e4a8ed0bc52fe038104",
     "grade": false,
     "grade_id": "cell-a7a4255dfbbc98e4",
     "locked": true,
     "schema_version": 3,
     "solution": false,
     "task": false
    }
   },
   "source": [
    "## Computational  Methods [10 pts]\n",
    "\n",
    "Briefly describe the specific approach you will take to solve some concrete aspect of the general problem. \n",
    "\n",
    "You should  include all the numerical or computational methods you intend to use.  These can include methods or packages  we did not discuss in class but provide some reference to the method. You do not need to explain how the methods work, but you should briefly justify your choices. \n",
    "\n",
    "**If you need to install or import any additional python packages,  please provide complete installation instructions in the code block below**\n",
    "\n"
   ]
  },
  {
   "cell_type": "markdown",
   "metadata": {},
   "source": [
    "We will use shooting method to get a numerical solution and analyze the performance of device by quadrature."
   ]
  },
  {
   "cell_type": "code",
   "execution_count": 4,
   "metadata": {},
   "outputs": [],
   "source": [
    "# Provide complete installation or import information for external packages or modules here e.g.\n",
    "from scipy.integrate import solve_ivp\n",
    "from scipy.optimize import root_scalar\n",
    "\n",
    "\n",
    "#pip install somepackage\n",
    "# from somepackage import blah"
   ]
  },
  {
   "cell_type": "markdown",
   "metadata": {
    "deletable": false,
    "editable": false,
    "nbgrader": {
     "cell_type": "markdown",
     "checksum": "16f556c95576d60edbc767a3e7e616a4",
     "grade": false,
     "grade_id": "cell-501a9781d3f83013",
     "locked": true,
     "schema_version": 3,
     "solution": false,
     "task": false
    }
   },
   "source": [
    "## Implementation [60 pts]\n",
    "\n",
    "Use the Markdown and Code blocks below to implement and document your methods including figures.  Only the first code block will be a grading cell but please add (not copy) cells in this section to organize your work. \n",
    "\n",
    "Please make the description of your problem readable by interlacing clear explanatory text with code. \n",
    "All code should be well described and commented.\n",
    "\n",
    "For at least one routine you code below, you should provide a test block (e.g. that implements `numpy.testing` routines) to validate your code."
   ]
  },
  {
   "cell_type": "markdown",
   "metadata": {
    "deletable": false,
    "nbgrader": {
     "cell_type": "markdown",
     "checksum": "36d5c668364853007ee40c22680478d2",
     "grade": true,
     "grade_id": "cell-fe71c0040eae7d5d",
     "locked": false,
     "points": 10,
     "schema_version": 3,
     "solution": true,
     "task": false
    }
   },
   "source": [
    "The continuity equation depends on the application of devices, we will solve the computational problem for photoelectronic diodes.\n",
    "\n",
    "Excess carrier can be generated in neutral N and P region of the semiconductor.  The distribution of excess minority carriers within P region can be calculated by **Bipolar Transportation Equation**, Which is:\n",
    "\n",
    "$$\n",
    "D_{n} \\frac{\\partial^{2}p}{\\partial x^{2}}+G_{L}-\\frac{p}{\\tau_{p0}}=\\frac{\\partial p}{\\partial t}\n",
    "$$\n",
    "\n",
    "Assume that the electric field in the neutral zone (non-space-charge region) is zero. We only focus the equilibrium state $\\partial p/\\partial t=0$. Now the continuity equation becomes an ODE:\n",
    "\n",
    "$$\n",
    "\\frac{\\mathrm{d}^{2}p}{\\mathrm{d} x^{2}}-\\frac{p}{L_{p}^{2}}=-\\frac{G_{L}}{D_{p}}\n",
    "$$\n",
    "Where$L^2_p=D_p \\tau_{p0}$.\n",
    "\n",
    "The solution of this equation has two part: general solution and particular solution. The general solution can be obtained by following equation:\n",
    "\n",
    "$$\n",
    "\\frac{d^{2}p_h}{d x^{2}}-\\frac{p_h}{L_{p}^{2}}=0\n",
    "$$\n",
    "Where $p_h$ is the general solution, calculated by:\n",
    "$$\n",
    "p_h=A \\mathrm{e}^{-x / L_{p}}+B \\mathrm{e}^{x / L_{p}} \\quad(x \\geqslant 0)\n",
    "$$\n",
    "\n",
    "One boundary condition is that $p_h$ must be finite, which means for semiconductors have long length $B=0$.\n",
    "\n",
    "The particular solution can be obtained by:\n",
    "$$\n",
    "-\\frac{p_p}{L_{p}^{2}}=-\\frac{G_{L}}{D_{p}}\n",
    "$$\n",
    "\n",
    "Therefore we could get:\n",
    "$$\n",
    "p_p=\\frac{G_{L} L_{p}^{2}}{D_{p}}=\\frac{G_{L}\\left(D_{p} \\tau_{p0}\\right)}{D_{p}}=G_{L} \\tau_{p0}\n",
    "$$"
   ]
  },
  {
   "cell_type": "markdown",
   "metadata": {
    "deletable": false,
    "nbgrader": {
     "cell_type": "markdown",
     "checksum": "11b06e8b1b9fcac0845c1a031f41bc01",
     "grade": true,
     "grade_id": "cell-31f08d5d85bd9afd",
     "locked": false,
     "points": 60,
     "schema_version": 3,
     "solution": true,
     "task": false
    }
   },
   "source": [
    "*Written by Juanlang Shi, Data researched by Dawei Wang*\n",
    "\n",
    "Hence, the equilibrium solution of $p$ is\n",
    "\n",
    "$$\n",
    "p = A\\mathrm{e}^{-\\frac{x}{L_p}} +G_L\\tau_{p0}\n",
    "$$"
   ]
  },
  {
   "cell_type": "markdown",
   "metadata": {},
   "source": [
    "At $x = 0$, the total concentration of carriers is zero, then the excess carriers concentration is $-p_0$, where $p_0$ is the concentration of carrier in semiconductor. Hence, the solution is\n",
    "\n",
    "$$\n",
    "p = G_L\\tau_{p0} - (G_L\\tau_{p0} + p_0)\\mathrm{e}^{-\\frac{x}{L_p}}.\n",
    "$$"
   ]
  },
  {
   "cell_type": "markdown",
   "metadata": {},
   "source": [
    "Now we consider three material: silicon (Si), germanium (Ge), and gallium arsenide (GaAs). The parameters of these materials under 300K are\n",
    "\n",
    "<table width=\"80%\">\n",
    "    <tr align=\"center\"><th>$$\\text{Material}$$</th> <th align=\"center\">$$\\text{Lifespan}$$</th> <th align=\"center\">$$\\text{Forbidden Bandwidth (eV)}$$</th></tr>\n",
    "    <tr align=\"center\"><td>$$\\text{Si (N-type)}$$</td>           <td> $$30\\times 10^{-6}\\text{s}$$ </td> <td> $$1.12$$ </td> </tr>\n",
    "    <tr align=\"center\"><td>$$\\text{Ge (N-type)}$$</td>           <td> $$140\\times 10^{-6}\\text{s}$$ </td> <td> $$0.66$$ </td> </tr>\n",
    "    <tr align=\"center\"><td>$$\\text{GaAs (N-type)}$$</td>           <td> $$10\\times 10^{-9}\\text{s}$$ </td> <td> $$1.424$$ </td> </tr>\n",
    "</table>"
   ]
  },
  {
   "cell_type": "markdown",
   "metadata": {},
   "source": [
    "Now we suppose that $G_L = 10^{20}\\text{cm}^{-3}\\text{s}^{-1}$, then other parameters in ODE for each material are\n",
    "\n",
    "<table width=\"80%\">\n",
    "    <tr align=\"center\"><th>$$\\text{Material}$$</th> <th align=\"center\"> $$\\text{Diffusion constant }(D)$$ </th></tr>\n",
    "    <tr align=\"center\"><td>$$\\text{Si (N-type)}$$</td>           <td> $$6.47\\ \\text{cm}^{2}\\text{s}^{-1}$$ </td> </tr>\n",
    "    <tr align=\"center\"><td>$$\\text{Ge (N-type)}$$</td>           <td> $$44\\ \\text{cm}^{2}\\text{s}^{-1}$$ </td> </tr>\n",
    "    <tr align=\"center\"><td>$$\\text{GaAs (N-type)}$$</td>          <td> $$10\\ \\text{cm}^{2}\\text{s}^{-1}$$ </td> </tr>\n",
    "</table>\n",
    "\n",
    "We also compute $p_0$ for each material. Let the concentration of donor impurities be $10^{13}, 10^{14}, 10^{15}$."
   ]
  },
  {
   "cell_type": "markdown",
   "metadata": {},
   "source": [
    "Let $n_0$, $p_0$ be the carrier concentrations, $N_C$ and $N_A$ are parameters of the materials. $E_g$ is the forbidden bandwidth of material, then we have\n",
    "\n",
    "$$\n",
    "n_0p_0 = N_AN_C \\exp(-\\frac{E_g}{kT}) = n_i^2\\exp(-\\frac{E_g}{kT}).\n",
    "$$\n"
   ]
  },
  {
   "cell_type": "markdown",
   "metadata": {},
   "source": [
    "In our study, we assume that the diode's length is 0.3 cm."
   ]
  },
  {
   "cell_type": "code",
   "execution_count": 227,
   "metadata": {},
   "outputs": [],
   "source": [
    "# Code by Juanlang Shi and Dawei Wang\n",
    "\n",
    "# Compute p0 for each material\n",
    "kT = 0.025852\n",
    "Eg = [1.12, 0.66, 1.424]\n",
    "GL = 10. ** 20.\n",
    "\n",
    "# Product of NaNc\n",
    "Ni = numpy.empty(3)\n",
    "Ni[0] = (1.5 * 10. ** 10) ** 2 \n",
    "Ni[1] = (1.8 * 10. ** 6) ** 2\n",
    "Ni[2] = (2.4 * 10. ** 13) ** 2\n",
    "\n",
    "# Lifespan\n",
    "tau = [30. * 10. ** (-6.), 140. * 10. ** (-6.), 10. * 10. ** (-9.)]\n",
    "\n",
    "# Given major carrier concentration\n",
    "impurity = 10. ** 14\n",
    "\n",
    "# Compute minor carrier concentration\n",
    "Si_p0 = Ni[0] / impurity\n",
    "Ge_p0 = Ni[1] / impurity\n",
    "GaAs_p0 = Ni[2] / impurity\n",
    "\n",
    "#print(Si_p0)\n",
    "\n",
    "# Diffusion Constant\n",
    "diff_const = [6.47, 44., 10.]\n",
    "\n",
    "# Diffusion Length\n",
    "Lp = numpy.empty(3)\n",
    "for i in range(3):\n",
    "    Lp[i] = tau[i] * diff_const[i]\n",
    "\n",
    "#donor concentration\n",
    "donor_conc = [10. * 10 ** 13, 10. * 10 ** 14, 10. * 10 ** 15]\n",
    "\n",
    "x = numpy.linspace(0,0.3,100)"
   ]
  },
  {
   "cell_type": "code",
   "execution_count": 228,
   "metadata": {},
   "outputs": [],
   "source": [
    "# Shooting method\n",
    "\n",
    "def shoot_bvp(f, x, u_a, u_b, rtol=1.e-5, atol=1.e-9):\n",
    "    \"\"\"\n",
    "    Solve the two-point boundary value problem on the interval x\\in [a,b], using a shooting method that combines \n",
    "        scipy.integrate.solve_ivp and scipy.optimize.root_scalar and allows a range of boundary conditions\n",
    "        \n",
    "        \n",
    "    parameters:\n",
    "    -----------\n",
    "    f: calleable \n",
    "        vector value function for righthand side of the ODE with interface f(t,u). returns ndarray of length 2\n",
    "    x: numpy array\n",
    "        coordinates array for solution  on interval [a,b] with x[0] = a, x[-1] = b\n",
    "    u_a:  numpy array (length 2)\n",
    "        provide initial boundary conditions  [u, u' ] at x=a\n",
    "    u_b:  numpy array (length 2)\n",
    "        target boundary condition at x = b\n",
    "    i_a: integer\n",
    "        index of known boundary condition at x = a.  i.e.\n",
    "        if dirichlet conditions : i_a = 0 and u(a) is known  \n",
    "        if neumann conditions   : i_a = 1 and u'(a) is known\n",
    "        the complementary index is adjusted to match the boundary condition at b\n",
    "    i_b: integer\n",
    "        index of known boundary condition at x = b. i.e.\n",
    "        if dirichlet conditions : i_b = 0 and u(b) is known  \n",
    "        if neumann conditions   : i_b = 1 and u'(b) is known\n",
    "        the complementary index is ignored at b\n",
    "    rtol:  float\n",
    "        relative tolerance\n",
    "    atol:  float\n",
    "        absolute tolerance\n",
    "        \n",
    "    returns:\n",
    "    --------\n",
    "    u: solution u(x) for x (uses dense_output from solve_ivp to interpolate solution onto x)\n",
    "    \"\"\"\n",
    "    \n",
    "# YOUR CODE HERE\n",
    "\n",
    "    # Initial Conditions and guess\n",
    "    u0_rhs = u_b\n",
    "    u_lfs = u_a\n",
    "    \n",
    "    def convergence(guess):\n",
    "        u0 = [u_lfs, guess] \n",
    "        sol = solve_ivp(f, [x[0], x[-1]], u0, rtol = rtol, atol = atol)\n",
    "        \n",
    "        u_end = sol.y[0,-1]\n",
    "        return numpy.max(numpy.abs(u_end - u0_rhs))\n",
    "    \n",
    "    sol = root_scalar(convergence,x0 = 10 ** (18), x1 = 0,xtol=atol, rtol=rtol)\n",
    "    guess = sol.root\n",
    "    \n",
    "    u0 = [u_lfs, guess]\n",
    "            \n",
    "    sol = solve_ivp(f, [x[0], x[-1]], u0, dense_output=True, rtol = rtol, atol = atol)\n",
    "    u = sol.sol(x)[0]\n",
    "    \n",
    "    return u\n",
    "\n",
    "# Define f for Silicon\n",
    "def f0(x, v):\n",
    "    return numpy.array([v[1], v[0] / Lp[0] - GL / diff_const[0]])\n",
    "\n",
    "# Define f for Germanium\n",
    "def f1(x, v):\n",
    "    return numpy.array([v[1], v[0] / Lp[1]- GL / diff_const[1]])\n",
    "\n",
    "# Define f for Gallium Arsenide\n",
    "def f2(x, v):\n",
    "    return numpy.array([v[1], v[0] / Lp[2] - GL / diff_const[2]])"
   ]
  },
  {
   "cell_type": "code",
   "execution_count": 255,
   "metadata": {
    "scrolled": false
   },
   "outputs": [
    {
     "data": {
      "image/png": "[encoded data removed]",
      "text/plain": [
       "<Figure size 1152x576 with 2 Axes>"
      ]
     },
     "metadata": {
      "needs_background": "light"
     },
     "output_type": "display_data"
    }
   ],
   "source": [
    "# Define initial conditions for Silicon\n",
    "u_a = numpy.empty(3)\n",
    "u_a[0] = -Si_p0\n",
    "u_a[1] = -Ge_p0\n",
    "u_a[2] = -GaAs_p0\n",
    "u_b = numpy.empty(3)\n",
    "u_b[0] = GL * tau[0]\n",
    "u_b[1] = GL * tau[1]\n",
    "u_b[2] = GL * tau[2]\n",
    "\n",
    "# Solution for Silicon\n",
    "sol_Si = shoot_bvp(f0, x, u_a[0], u_b[0], rtol=1.e-6, atol=1.e-9)\n",
    "sol_Ge = shoot_bvp(f1, x, u_a[1], u_b[1], rtol=1.e-6, atol=1.e-9)\n",
    "sol_GaAs = shoot_bvp(f2, x, u_a[2], u_b[2], rtol=1.e-6, atol=1.e-9)\n",
    "\n",
    "# Plot the figure for silicon\n",
    "fig = plt.figure(figsize=(16,8))\n",
    "axes = fig.add_subplot(1, 2, 1)\n",
    "axes.plot(x, sol_Si, label=\"u_sol\")\n",
    "\n",
    "#Exact solution\n",
    "p = lambda x: tau[0] * GL - (GL * tau[0] + Si_p0) * numpy.exp(- x / numpy.sqrt(Lp[0]))\n",
    "axes.plot(x, p(x), label=\"u_true, Si\")\n",
    "\n",
    "\n",
    "axes.set_xlabel(\"x\")\n",
    "axes.set_ylabel(\"$p$\")\n",
    "axes.legend(loc='best')\n",
    "axes.grid()\n",
    "\n",
    "# Plot the rel_err \n",
    "rel_err=numpy.empty(100)\n",
    "for i in range(100):\n",
    "    rel_err[i] = numpy.abs(sol_Si[i] - p(x[i]))/numpy.abs(p(x[i]))\n",
    "axes = fig.add_subplot(1, 2, 2)\n",
    "axes.plot(x, rel_err , label=\"rel_err \")\n",
    "\n",
    "axes.set_xlabel(\"x\")\n",
    "axes.set_ylabel(\"$rel_err $\")\n",
    "axes.legend(loc='best')\n",
    "axes.grid()"
   ]
  },
  {
   "cell_type": "markdown",
   "metadata": {},
   "source": [
    "Now we test the solution."
   ]
  },
  {
   "cell_type": "code",
   "execution_count": 230,
   "metadata": {},
   "outputs": [
    {
     "name": "stdout",
     "output_type": "stream",
     "text": [
      "relative error = 8.150066303396458e-07\n",
      "success\n"
     ]
    }
   ],
   "source": [
    "#  test the solution against the true solution and pass if relative error < 1.e-6\n",
    "\n",
    "rel_err = numpy.linalg.norm(sol_Si - p(x))/numpy.linalg.norm(p(x))\n",
    "print('relative error = {}'.format(rel_err))\n",
    "\n",
    "assert(rel_err < 1.e-6)\n",
    "print('success')"
   ]
  },
  {
   "cell_type": "markdown",
   "metadata": {},
   "source": [
    "Now we plot solutions for all materials. "
   ]
  },
  {
   "cell_type": "code",
   "execution_count": 238,
   "metadata": {},
   "outputs": [
    {
     "data": {
      "image/png": "[encoded data removed]",
      "text/plain": [
       "<Figure size 720x576 with 1 Axes>"
      ]
     },
     "metadata": {
      "needs_background": "light"
     },
     "output_type": "display_data"
    }
   ],
   "source": [
    "fig = plt.figure(figsize=(10,8))\n",
    "axes = fig.add_subplot(1, 1, 1)\n",
    "axes.plot(x, sol_Si, label=\"u_sol, Si\")\n",
    "axes.plot(x, sol_Ge, label=\"u_sol, Ge\")\n",
    "#axes.plot(x, sol_GaAs, label=\"u_sol, GaAs\")\n",
    "\n",
    "#Exact solution\n",
    "p = lambda x: tau[0] * GL - (GL * tau[0] + Si_p0) * numpy.exp(- x / numpy.sqrt(Lp[0]))\n",
    "axes.plot(x, p(x), label=\"u_true, Si\")\n",
    "p = lambda x: tau[1] * GL - (GL * tau[1] + Ge_p0) * numpy.exp(- x / numpy.sqrt(Lp[1]))\n",
    "axes.plot(x, p(x), label=\"u_true, Ge\")\n",
    "p = lambda x: tau[2] * GL - (GL * tau[2] + GaAs_p0) * numpy.exp(- x / numpy.sqrt(Lp[2]))\n",
    "axes.plot(x, p(x), label=\"u_true, GaAs\")\n",
    "\n",
    "axes.set_xlabel(\"x\")\n",
    "axes.set_ylabel(\"$p$\")\n",
    "axes.legend(loc='best')\n",
    "axes.grid()"
   ]
  },
  {
   "cell_type": "markdown",
   "metadata": {},
   "source": [
    "In this plot, we only show the solution of silicon and germanium. The lifespan of holes in n-GaAs is too short and it is underflow. In the following analysis, we only compare the performance of Si and Ge devices. We see the difference of $p$ between Ge and Si is large. We use the left rectangular rule in quadrature. "
   ]
  },
  {
   "cell_type": "code",
   "execution_count": 242,
   "metadata": {},
   "outputs": [],
   "source": [
    "# Quadrature by Left-rectagular Rule\n",
    "def I_left(x, sol, a, b):\n",
    "    \"\"\" Left rectangle rule\"\"\"\n",
    "    delta = x[b] - x[a]\n",
    "    f_eval = sol[a]\n",
    "    I = f_eval * delta\n",
    "    return I\n",
    "\n",
    "def quadN(x, sol, N = len(x)):\n",
    "    \"\"\" \n",
    "    integrate a function f over the interval x in [a,b] using \n",
    "    an extended quadrature rule that implements a single interval\n",
    "    quadrature rule over N panels of width (a - b)/N \n",
    "        \n",
    "    Parameters:\n",
    "    -----------\n",
    "        \n",
    "    f:  function f(x) (type real)\n",
    "    a: real\n",
    "        left boundary of interval\n",
    "    b: real\n",
    "        right boundary of interval\n",
    "    N: integer\n",
    "        number of panels to subdivide [a,b]\n",
    "    method:  quadrature function with interface I(f, x0, x1) (real)\n",
    "        returns quadrature approximation for subinterval [x0, x1]\n",
    "        defaults to a midpoint rule\n",
    "            \n",
    "    Returns:\n",
    "    --------\n",
    "    I_N:  extended quadrature approximation of \\int_a^b f(x) dx\n",
    "        \n",
    "    \"\"\"\n",
    "    #Find the subintervals\n",
    "    t = numpy.zeros(len(sol))\n",
    "    t[0] = sol[0]\n",
    "    delta = (x[-1] - x[0]) / len(sol)\n",
    "    \n",
    "    I_N = 0\n",
    "\n",
    "    for i in range(N-1):\n",
    "        I = I_left(x, sol, i, i+1)\n",
    "        I_N = I_N + I\n",
    "    \n",
    "    return I_N\n"
   ]
  },
  {
   "cell_type": "code",
   "execution_count": 246,
   "metadata": {},
   "outputs": [
    {
     "name": "stdout",
     "output_type": "stream",
     "text": [
      "Ge is more sensitive than Si\n"
     ]
    }
   ],
   "source": [
    "J_Si = quadN(x, sol_Si, N = len(x))\n",
    "\n",
    "J_Ge = quadN(x, sol_Ge, N = len(x))\n",
    "\n",
    "if J_Si > J_Ge:\n",
    "    print(\"Si is more sensitive than Ge\")\n",
    "elif J_Si < J_Ge:\n",
    "    print(\"Ge is more sensitive than Si\")\n",
    "else:\n",
    "    print(\"Both materials are eligible\")"
   ]
  },
  {
   "cell_type": "markdown",
   "metadata": {
    "deletable": false,
    "editable": false,
    "nbgrader": {
     "cell_type": "markdown",
     "checksum": "05cd6d822d37c68f91ba0d6d509397e9",
     "grade": false,
     "grade_id": "cell-8139016f051ab235",
     "locked": true,
     "schema_version": 3,
     "solution": false,
     "task": false
    }
   },
   "source": [
    "## Discussion [10 pts]\n",
    "\n",
    "Discuss the results of your code including \n",
    "* Why do you believe that your numerical results are correct (convergence, test cases etc)?\n",
    "* Did the project work (in your opinion)?\n",
    "* If yes:  what would be the next steps to try\n",
    "* If no:  Explain why your approach did not work and what you would do differently next time\n"
   ]
  },
  {
   "cell_type": "markdown",
   "metadata": {
    "deletable": false,
    "nbgrader": {
     "cell_type": "markdown",
     "checksum": "c9a6bc1bd11c0e30eac1ac25f6ca71bb",
     "grade": true,
     "grade_id": "cell-596162f90cd1e909",
     "locked": false,
     "points": 10,
     "schema_version": 3,
     "solution": true,
     "task": false
    }
   },
   "source": [
    "Within the computation process, we’ve met an important underflow problem that stopped our computation in the third material GaAs. Due to the extreme short lifespan of GaAs, we’ve reached the computational limit. Thus our attempt is failed on GaAs unless use a system with much more digits.\n",
    "\n",
    "Besides the third material, our first two materials give quite reasonable result. The numerical value we get from shooting method is close enough to the exact value from the original equation.\n",
    "\n",
    "Since the idea of using shooting method to compute numerical solution of carrier concentration is proven valid, we can now extend this method to all other materials. The only loophole of this method is it cannot deal with materials with extreme short lifespan. Moreover, this project is to set up the materials and their properties first and then calculate the carrier concentration, but we can also fix some parameters of the equation, such as mobility, to find optimal material property in order to identify the best material to use."
   ]
  },
  {
   "cell_type": "code",
   "execution_count": null,
   "metadata": {},
   "outputs": [],
   "source": []
  }
 ],
 "metadata": {
  "kernelspec": {
   "display_name": "Python 3",
   "language": "python",
   "name": "python3"
  },
  "language_info": {
   "codemirror_mode": {
    "name": "ipython",
    "version": 3
   },
   "file_extension": ".py",
   "mimetype": "text/x-python",
   "name": "python",
   "nbconvert_exporter": "python",
   "pygments_lexer": "ipython3",
   "version": "3.8.5"
  },
  "latex_envs": {
   "bibliofile": "biblio.bib",
   "cite_by": "apalike",
   "current_citInitial": 1,
   "eqLabelWithNumbers": true,
   "eqNumInitial": 0
  }
 },
 "nbformat": 4,
 "nbformat_minor": 4
}
